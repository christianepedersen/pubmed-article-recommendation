{
 "cells": [
  {
   "cell_type": "code",
   "execution_count": null,
   "metadata": {},
   "outputs": [],
   "source": []
  },
  {
   "cell_type": "markdown",
   "metadata": {},
   "source": [
    "#### Ideas for NLP analysis of science article abstracts\n",
    "\n",
    "- Generate bag of words \n",
    "- Clustering of processed words\n",
    "- Regression/classification to predict the citations of an article (interface with citation count df)\n",
    "- ^Which words add the most citation impact to an article? (feature contribution to model)\n",
    "\n",
    "- generate abstract text (can we make an entirely new abstract from the abstracts we have understood?)"
   ]
  },
  {
   "cell_type": "code",
   "execution_count": null,
   "metadata": {},
   "outputs": [],
   "source": []
  },
  {
   "cell_type": "code",
   "execution_count": 1,
   "metadata": {},
   "outputs": [],
   "source": [
    "import numpy as np\n",
    "import pandas as pd\n",
    "\n",
    "import matplotlib.pyplot as plt\n",
    "import seaborn as sns\n",
    "sns.set_style('white')\n",
    "%matplotlib inline\n",
    "\n",
    "import string\n",
    "from nltk.corpus import stopwords"
   ]
  },
  {
   "cell_type": "code",
   "execution_count": null,
   "metadata": {},
   "outputs": [],
   "source": []
  },
  {
   "cell_type": "code",
   "execution_count": 2,
   "metadata": {},
   "outputs": [],
   "source": [
    "# load in abstract text (json format)\n",
    "import json\n",
    "\n",
    "#with open('NAc_CiteDict.json', 'w') as fp:\n",
    "#    json.dump(cite_dict, fp)\n",
    "    \n",
    "with open('NAcTopCited_AbzDict.json', 'r') as fp:\n",
    "    abzDict = json.load(fp)\n",
    "    \n",
    "with open('NAcTopCited_AbzCited.json', 'r') as fp:\n",
    "    abzCited = json.load(fp)    "
   ]
  },
  {
   "cell_type": "code",
   "execution_count": 3,
   "metadata": {},
   "outputs": [
    {
     "data": {
      "text/plain": [
       "True"
      ]
     },
     "execution_count": 3,
     "metadata": {},
     "output_type": "execute_result"
    }
   ],
   "source": [
    "abzDict.keys() == abzCited.keys()"
   ]
  },
  {
   "cell_type": "code",
   "execution_count": null,
   "metadata": {},
   "outputs": [],
   "source": []
  },
  {
   "cell_type": "code",
   "execution_count": 4,
   "metadata": {},
   "outputs": [
    {
     "data": {
      "text/html": [
       "<div>\n",
       "<style scoped>\n",
       "    .dataframe tbody tr th:only-of-type {\n",
       "        vertical-align: middle;\n",
       "    }\n",
       "\n",
       "    .dataframe tbody tr th {\n",
       "        vertical-align: top;\n",
       "    }\n",
       "\n",
       "    .dataframe thead th {\n",
       "        text-align: right;\n",
       "    }\n",
       "</style>\n",
       "<table border=\"1\" class=\"dataframe\">\n",
       "  <thead>\n",
       "    <tr style=\"text-align: right;\">\n",
       "      <th></th>\n",
       "      <th>pmid</th>\n",
       "      <th>abstract</th>\n",
       "      <th>citedByNof1000</th>\n",
       "    </tr>\n",
       "  </thead>\n",
       "  <tbody>\n",
       "    <tr>\n",
       "      <th>0</th>\n",
       "      <td>28548226</td>\n",
       "      <td>The subdifferentiation of the nucleus accumben...</td>\n",
       "      <td>4</td>\n",
       "    </tr>\n",
       "    <tr>\n",
       "      <th>1</th>\n",
       "      <td>26818502</td>\n",
       "      <td>Nucleus accumbens (NAc) neurons encode feature...</td>\n",
       "      <td>9</td>\n",
       "    </tr>\n",
       "    <tr>\n",
       "      <th>2</th>\n",
       "      <td>26691834</td>\n",
       "      <td>We examined adaptations in nucleus accumbens (...</td>\n",
       "      <td>5</td>\n",
       "    </tr>\n",
       "    <tr>\n",
       "      <th>3</th>\n",
       "      <td>25834050</td>\n",
       "      <td>Neural circuits that determine the perception ...</td>\n",
       "      <td>4</td>\n",
       "    </tr>\n",
       "    <tr>\n",
       "      <th>4</th>\n",
       "      <td>25251489</td>\n",
       "      <td>Nearly 40 years of research on the function of...</td>\n",
       "      <td>42</td>\n",
       "    </tr>\n",
       "  </tbody>\n",
       "</table>\n",
       "</div>"
      ],
      "text/plain": [
       "       pmid                                           abstract citedByNof1000\n",
       "0  28548226  The subdifferentiation of the nucleus accumben...              4\n",
       "1  26818502  Nucleus accumbens (NAc) neurons encode feature...              9\n",
       "2  26691834  We examined adaptations in nucleus accumbens (...              5\n",
       "3  25834050  Neural circuits that determine the perception ...              4\n",
       "4  25251489  Nearly 40 years of research on the function of...             42"
      ]
     },
     "execution_count": 4,
     "metadata": {},
     "output_type": "execute_result"
    }
   ],
   "source": [
    "# convert abz_dict dictionary to df with cols = pmid, abstract, length (of abstr),  ... citations ?\n",
    "\n",
    "abz_df = pd.DataFrame(columns = ['pmid','abstract','citedByNof1000'])\n",
    "\n",
    "for n,key in enumerate(abzDict.keys()):\n",
    "    \n",
    "    abz_df.loc[n] = [key,abzDict[key],abzCited[key]]\n",
    "\n",
    "abz_df.head(5)"
   ]
  },
  {
   "cell_type": "code",
   "execution_count": 5,
   "metadata": {},
   "outputs": [
    {
     "data": {
      "text/html": [
       "<div>\n",
       "<style scoped>\n",
       "    .dataframe tbody tr th:only-of-type {\n",
       "        vertical-align: middle;\n",
       "    }\n",
       "\n",
       "    .dataframe tbody tr th {\n",
       "        vertical-align: top;\n",
       "    }\n",
       "\n",
       "    .dataframe thead th {\n",
       "        text-align: right;\n",
       "    }\n",
       "</style>\n",
       "<table border=\"1\" class=\"dataframe\">\n",
       "  <thead>\n",
       "    <tr style=\"text-align: right;\">\n",
       "      <th></th>\n",
       "      <th>pmid</th>\n",
       "      <th>abstract</th>\n",
       "      <th>citedByNof1000</th>\n",
       "      <th>length</th>\n",
       "    </tr>\n",
       "  </thead>\n",
       "  <tbody>\n",
       "    <tr>\n",
       "      <th>0</th>\n",
       "      <td>28548226</td>\n",
       "      <td>The subdifferentiation of the nucleus accumben...</td>\n",
       "      <td>4</td>\n",
       "      <td>1577</td>\n",
       "    </tr>\n",
       "    <tr>\n",
       "      <th>1</th>\n",
       "      <td>26818502</td>\n",
       "      <td>Nucleus accumbens (NAc) neurons encode feature...</td>\n",
       "      <td>9</td>\n",
       "      <td>2440</td>\n",
       "    </tr>\n",
       "    <tr>\n",
       "      <th>2</th>\n",
       "      <td>26691834</td>\n",
       "      <td>We examined adaptations in nucleus accumbens (...</td>\n",
       "      <td>5</td>\n",
       "      <td>515</td>\n",
       "    </tr>\n",
       "    <tr>\n",
       "      <th>3</th>\n",
       "      <td>25834050</td>\n",
       "      <td>Neural circuits that determine the perception ...</td>\n",
       "      <td>4</td>\n",
       "      <td>1095</td>\n",
       "    </tr>\n",
       "    <tr>\n",
       "      <th>4</th>\n",
       "      <td>25251489</td>\n",
       "      <td>Nearly 40 years of research on the function of...</td>\n",
       "      <td>42</td>\n",
       "      <td>1011</td>\n",
       "    </tr>\n",
       "  </tbody>\n",
       "</table>\n",
       "</div>"
      ],
      "text/plain": [
       "       pmid                                           abstract citedByNof1000  \\\n",
       "0  28548226  The subdifferentiation of the nucleus accumben...              4   \n",
       "1  26818502  Nucleus accumbens (NAc) neurons encode feature...              9   \n",
       "2  26691834  We examined adaptations in nucleus accumbens (...              5   \n",
       "3  25834050  Neural circuits that determine the perception ...              4   \n",
       "4  25251489  Nearly 40 years of research on the function of...             42   \n",
       "\n",
       "   length  \n",
       "0    1577  \n",
       "1    2440  \n",
       "2     515  \n",
       "3    1095  \n",
       "4    1011  "
      ]
     },
     "execution_count": 5,
     "metadata": {},
     "output_type": "execute_result"
    }
   ],
   "source": [
    "# make new df column that gives length of abstract\n",
    "abz_df['length'] = abz_df['abstract'].apply(len)\n",
    "abz_df.head()"
   ]
  },
  {
   "cell_type": "code",
   "execution_count": 6,
   "metadata": {},
   "outputs": [
    {
     "data": {
      "text/plain": [
       "count    1374.000000\n",
       "mean     1439.411208\n",
       "std       504.631025\n",
       "min        44.000000\n",
       "25%      1078.000000\n",
       "50%      1487.500000\n",
       "75%      1775.750000\n",
       "max      4002.000000\n",
       "Name: length, dtype: float64"
      ]
     },
     "execution_count": 6,
     "metadata": {},
     "output_type": "execute_result"
    },
    {
     "data": {
      "image/png": "[encoded data removed]",
      "text/plain": [
       "<Figure size 432x288 with 1 Axes>"
      ]
     },
     "metadata": {
      "needs_background": "light"
     },
     "output_type": "display_data"
    }
   ],
   "source": [
    "# make histogram of abstract length \n",
    "\n",
    "abz_df['length'].plot(bins=50, kind='hist') \n",
    "\n",
    "\n",
    "# get mean,std,stats on length of abstract\n",
    "abz_df.length.describe()"
   ]
  },
  {
   "cell_type": "code",
   "execution_count": 7,
   "metadata": {},
   "outputs": [
    {
     "data": {
      "text/plain": [
       "count     1374\n",
       "unique      35\n",
       "top          4\n",
       "freq       433\n",
       "Name: citedByNof1000, dtype: int64"
      ]
     },
     "execution_count": 7,
     "metadata": {},
     "output_type": "execute_result"
    },
    {
     "data": {
      "image/png": "[encoded data removed]",
      "text/plain": [
       "<Figure size 432x288 with 1 Axes>"
      ]
     },
     "metadata": {
      "needs_background": "light"
     },
     "output_type": "display_data"
    }
   ],
   "source": [
    "# make histogram of abstract length \n",
    "\n",
    "abz_df['citedByNof1000'].plot(bins=50, kind='hist') \n",
    "\n",
    "\n",
    "# get mean,std,stats on length of abstract\n",
    "abz_df.citedByNof1000.describe()"
   ]
  },
  {
   "cell_type": "code",
   "execution_count": null,
   "metadata": {},
   "outputs": [],
   "source": []
  },
  {
   "cell_type": "code",
   "execution_count": null,
   "metadata": {},
   "outputs": [],
   "source": []
  },
  {
   "cell_type": "code",
   "execution_count": null,
   "metadata": {},
   "outputs": [],
   "source": []
  },
  {
   "cell_type": "code",
   "execution_count": null,
   "metadata": {},
   "outputs": [],
   "source": []
  },
  {
   "cell_type": "code",
   "execution_count": null,
   "metadata": {},
   "outputs": [],
   "source": []
  },
  {
   "cell_type": "code",
   "execution_count": 8,
   "metadata": {},
   "outputs": [],
   "source": [
    "def text_process(mess):\n",
    "    \"\"\"\n",
    "    Takes in a string of text, then performs the following:\n",
    "    1. Remove all punctuation\n",
    "    2. Remove all stopwords\n",
    "    3. Returns a list of the cleaned text\n",
    "    \"\"\"\n",
    "    # Check characters to see if they are in punctuation\n",
    "    nopunc = [char for char in mess if char not in string.punctuation]\n",
    "\n",
    "    # Join the characters again to form the string.\n",
    "    nopunc = ''.join(nopunc)\n",
    "    \n",
    "    # Now just remove any stopwords\n",
    "    return [word for word in nopunc.split() if word.lower() not in stopwords.words('english')]"
   ]
  },
  {
   "cell_type": "code",
   "execution_count": 9,
   "metadata": {},
   "outputs": [],
   "source": [
    "# try applying removal of punctuation and stopwords from abstracts\n",
    "\n",
    "#abz_df['wordlist'] = abz_df['abstract'].apply(text_process)"
   ]
  },
  {
   "cell_type": "code",
   "execution_count": 10,
   "metadata": {},
   "outputs": [
    {
     "data": {
      "text/html": [
       "<div>\n",
       "<style scoped>\n",
       "    .dataframe tbody tr th:only-of-type {\n",
       "        vertical-align: middle;\n",
       "    }\n",
       "\n",
       "    .dataframe tbody tr th {\n",
       "        vertical-align: top;\n",
       "    }\n",
       "\n",
       "    .dataframe thead th {\n",
       "        text-align: right;\n",
       "    }\n",
       "</style>\n",
       "<table border=\"1\" class=\"dataframe\">\n",
       "  <thead>\n",
       "    <tr style=\"text-align: right;\">\n",
       "      <th></th>\n",
       "      <th>pmid</th>\n",
       "      <th>abstract</th>\n",
       "      <th>citedByNof1000</th>\n",
       "      <th>length</th>\n",
       "    </tr>\n",
       "  </thead>\n",
       "  <tbody>\n",
       "    <tr>\n",
       "      <th>0</th>\n",
       "      <td>28548226</td>\n",
       "      <td>The subdifferentiation of the nucleus accumben...</td>\n",
       "      <td>4</td>\n",
       "      <td>1577</td>\n",
       "    </tr>\n",
       "    <tr>\n",
       "      <th>1</th>\n",
       "      <td>26818502</td>\n",
       "      <td>Nucleus accumbens (NAc) neurons encode feature...</td>\n",
       "      <td>9</td>\n",
       "      <td>2440</td>\n",
       "    </tr>\n",
       "    <tr>\n",
       "      <th>2</th>\n",
       "      <td>26691834</td>\n",
       "      <td>We examined adaptations in nucleus accumbens (...</td>\n",
       "      <td>5</td>\n",
       "      <td>515</td>\n",
       "    </tr>\n",
       "    <tr>\n",
       "      <th>3</th>\n",
       "      <td>25834050</td>\n",
       "      <td>Neural circuits that determine the perception ...</td>\n",
       "      <td>4</td>\n",
       "      <td>1095</td>\n",
       "    </tr>\n",
       "    <tr>\n",
       "      <th>4</th>\n",
       "      <td>25251489</td>\n",
       "      <td>Nearly 40 years of research on the function of...</td>\n",
       "      <td>42</td>\n",
       "      <td>1011</td>\n",
       "    </tr>\n",
       "  </tbody>\n",
       "</table>\n",
       "</div>"
      ],
      "text/plain": [
       "       pmid                                           abstract citedByNof1000  \\\n",
       "0  28548226  The subdifferentiation of the nucleus accumben...              4   \n",
       "1  26818502  Nucleus accumbens (NAc) neurons encode feature...              9   \n",
       "2  26691834  We examined adaptations in nucleus accumbens (...              5   \n",
       "3  25834050  Neural circuits that determine the perception ...              4   \n",
       "4  25251489  Nearly 40 years of research on the function of...             42   \n",
       "\n",
       "   length  \n",
       "0    1577  \n",
       "1    2440  \n",
       "2     515  \n",
       "3    1095  \n",
       "4    1011  "
      ]
     },
     "execution_count": 10,
     "metadata": {},
     "output_type": "execute_result"
    }
   ],
   "source": [
    "abz_df.head()"
   ]
  },
  {
   "cell_type": "code",
   "execution_count": null,
   "metadata": {},
   "outputs": [],
   "source": []
  },
  {
   "cell_type": "code",
   "execution_count": 11,
   "metadata": {},
   "outputs": [],
   "source": [
    "# further normalize data by 'stemming' = finding the root of the word (running = run = ran)"
   ]
  },
  {
   "cell_type": "code",
   "execution_count": 12,
   "metadata": {},
   "outputs": [],
   "source": [
    "# further normalize data by dissecting based on parts of speech (conjunction, verb, noun, adjective, adverb)"
   ]
  },
  {
   "cell_type": "code",
   "execution_count": null,
   "metadata": {},
   "outputs": [],
   "source": []
  },
  {
   "cell_type": "code",
   "execution_count": 13,
   "metadata": {},
   "outputs": [],
   "source": [
    "# then vectorize: (create bag-of-words) is like one-hot encoding of word frequency in a text observation"
   ]
  },
  {
   "cell_type": "code",
   "execution_count": 14,
   "metadata": {},
   "outputs": [],
   "source": [
    "from sklearn.feature_extraction.text import CountVectorizer\n",
    "\n",
    "# Might take awhile...\n",
    "bow_transformer = CountVectorizer(analyzer=text_process).fit(abz_df['abstract'])\n"
   ]
  },
  {
   "cell_type": "code",
   "execution_count": 15,
   "metadata": {},
   "outputs": [
    {
     "name": "stdout",
     "output_type": "stream",
     "text": [
      "14968\n",
      "1977751\n"
     ]
    }
   ],
   "source": [
    "# compare length of vectorized vocabulary to length of all abstracts\n",
    "# this gives us a sense of how much words are being reused\n",
    "\n",
    "# Print total number of vocab words\n",
    "print(len(bow_transformer.vocabulary_))\n",
    "print(abz_df['length'].sum())\n"
   ]
  },
  {
   "cell_type": "code",
   "execution_count": 16,
   "metadata": {},
   "outputs": [
    {
     "name": "stdout",
     "output_type": "stream",
     "text": [
      "In addition to their well-established role in signaling rewarding outcomes and reward-predictive cues and in mediating positive reinforcement, there is growing  evidence that nucleus accumbens (NAc) neurons also signal aversive events and cues that predict them. Here we use diffusion tractography to subdivide the right NAc into lateral-rostral (putative core, pcore) and medial-caudal (putative shell, pshell) subdivisions in humans. The two subregions exhibited differential  structural connectivity, based on probabilistic tractography, to prefrontal cortical and subcortical limbic regions. We also demonstrate unique roles for each of the two subdivisions for monetary reward and thermal pain perception tasks: pshell signaling impending pain and value predictions for monetary gambles and pcore activating with anticipation of cessation of thermal pain (signaling reward value of analgesia). We examined functional connectivity for resting state, monetary reward, and thermal pain tasks, and for all three conditions observed that pcore and pshell of right NAc exhibit distinct patterns of synchrony (functional connectivity) to prefrontal cortical and subcortical limbic targets within the right hemisphere. To validate the NAc segregation, we mirrored the coordinates of right NAc pcore and pshell onto the left hemisphere and examined structural and resting state connectivity in the left hemisphere. This latter analysis closely replicated target-specific connections we obtained for the right hemisphere. Overall, we demonstrate that the human NAc can be parceled  based on structural and functional connectivity, and that activity in these subdivisions differentially encodes values for expected pain relief and for expected monetary reward.\n"
     ]
    }
   ],
   "source": [
    "# lets examine an example abstract transformed to bag-of-words\n",
    "\n",
    "ex_abz = abz_df['abstract'][7]\n",
    "print(ex_abz)"
   ]
  },
  {
   "cell_type": "code",
   "execution_count": 17,
   "metadata": {},
   "outputs": [
    {
     "name": "stdout",
     "output_type": "stream",
     "text": [
      "  (0, 3021)\t6\n",
      "  (0, 3273)\t1\n",
      "  (0, 4391)\t1\n",
      "  (0, 4450)\t1\n",
      "  (0, 4461)\t1\n",
      "  (0, 4506)\t1\n",
      "  (0, 4717)\t2\n",
      "  (0, 4799)\t1\n",
      "  (0, 4808)\t1\n",
      "  (0, 4884)\t1\n",
      "  (0, 5147)\t1\n",
      "  (0, 5201)\t2\n",
      "  (0, 5666)\t1\n",
      "  (0, 5825)\t1\n",
      "  (0, 6101)\t1\n",
      "  (0, 6141)\t1\n",
      "  (0, 6142)\t5\n",
      "  (0, 6300)\t1\n",
      "  (0, 6309)\t1\n",
      "  (0, 6359)\t2\n",
      "  (0, 6481)\t2\n",
      "  (0, 6712)\t2\n",
      "  (0, 6913)\t1\n",
      "  (0, 6914)\t1\n",
      "  (0, 6930)\t1\n",
      "  :\t:\n",
      "  (0, 12962)\t1\n",
      "  (0, 13103)\t1\n",
      "  (0, 13147)\t1\n",
      "  (0, 13150)\t3\n",
      "  (0, 13440)\t2\n",
      "  (0, 13585)\t3\n",
      "  (0, 13615)\t2\n",
      "  (0, 13622)\t1\n",
      "  (0, 13626)\t3\n",
      "  (0, 13661)\t1\n",
      "  (0, 13864)\t1\n",
      "  (0, 13918)\t1\n",
      "  (0, 13919)\t1\n",
      "  (0, 13925)\t2\n",
      "  (0, 14046)\t3\n",
      "  (0, 14067)\t1\n",
      "  (0, 14168)\t2\n",
      "  (0, 14320)\t2\n",
      "  (0, 14440)\t1\n",
      "  (0, 14525)\t1\n",
      "  (0, 14567)\t1\n",
      "  (0, 14575)\t2\n",
      "  (0, 14579)\t1\n",
      "  (0, 14778)\t1\n",
      "  (0, 14827)\t1\n",
      "(1, 14968)\n",
      "activating\n",
      "cues\n"
     ]
    }
   ],
   "source": [
    "# visualize structure of BoW\n",
    "# each abstract (observation) is a row\n",
    "# each word count bin is a column\n",
    "\n",
    "ex_BoW = bow_transformer.transform([ex_abz])\n",
    "print(ex_BoW[0:10])\n",
    "print(ex_BoW.shape)\n",
    "\n",
    "print(bow_transformer.get_feature_names()[4450])\n",
    "print(bow_transformer.get_feature_names()[6481])"
   ]
  },
  {
   "cell_type": "code",
   "execution_count": null,
   "metadata": {},
   "outputs": [],
   "source": []
  },
  {
   "cell_type": "code",
   "execution_count": 18,
   "metadata": {},
   "outputs": [],
   "source": [
    "# transform all abstract with previous fit BoW model\n",
    "\n",
    "abz_BoW = bow_transformer.transform(abz_df['abstract'])"
   ]
  },
  {
   "cell_type": "code",
   "execution_count": 19,
   "metadata": {},
   "outputs": [
    {
     "name": "stdout",
     "output_type": "stream",
     "text": [
      "Shape of Sparse Matrix:  (1374, 14968)\n",
      "Amount of Non-Zero occurences:  126118\n",
      "Amount of all possible bins:  20566032\n",
      "Percent of sparse matrix filled:  0.6132344829571402\n",
      "We generally see <1% filled\n"
     ]
    }
   ],
   "source": [
    "# see how sparse the BoW matrix is\n",
    "\n",
    "print('Shape of Sparse Matrix: ', abz_BoW.shape)\n",
    "print('Amount of Non-Zero occurences: ', abz_BoW.nnz)\n",
    "print('Amount of all possible bins: ', abz_BoW.shape[0]*abz_BoW.shape[1])\n",
    "print('Percent of sparse matrix filled: ', 100*abz_BoW.nnz/(abz_BoW.shape[0]*abz_BoW.shape[1]))\n",
    "print('We generally see <1% filled')"
   ]
  },
  {
   "cell_type": "code",
   "execution_count": null,
   "metadata": {},
   "outputs": [],
   "source": []
  },
  {
   "cell_type": "code",
   "execution_count": null,
   "metadata": {},
   "outputs": [],
   "source": []
  },
  {
   "cell_type": "code",
   "execution_count": 20,
   "metadata": {},
   "outputs": [
    {
     "name": "stdout",
     "output_type": "stream",
     "text": [
      "2.2247941321395217\n",
      "1.9957275625221897\n"
     ]
    }
   ],
   "source": [
    "# rescale BoW in terms of TF-IDF\n",
    "# TF = term frequency = (frequency of a word)/(total number of words in document)\n",
    "# IDF = inverse document freq = (total number of documents)/(number of documents containing word)\n",
    "\n",
    "from sklearn.feature_extraction.text import TfidfTransformer\n",
    "\n",
    "tfidf_transformer = TfidfTransformer().fit(abz_BoW)\n",
    "\n",
    "print(tfidf_transformer.idf_[bow_transformer.vocabulary_['reward']])\n",
    "print(tfidf_transformer.idf_[bow_transformer.vocabulary_['dopamine']])"
   ]
  },
  {
   "cell_type": "code",
   "execution_count": 21,
   "metadata": {},
   "outputs": [
    {
     "name": "stdout",
     "output_type": "stream",
     "text": [
      "(1374, 14968)\n"
     ]
    }
   ],
   "source": [
    "abz_tfidf = tfidf_transformer.transform(abz_BoW)\n",
    "print(abz_tfidf.shape)"
   ]
  },
  {
   "cell_type": "code",
   "execution_count": null,
   "metadata": {},
   "outputs": [],
   "source": []
  },
  {
   "cell_type": "code",
   "execution_count": null,
   "metadata": {},
   "outputs": [],
   "source": []
  },
  {
   "cell_type": "code",
   "execution_count": null,
   "metadata": {},
   "outputs": [],
   "source": []
  },
  {
   "cell_type": "markdown",
   "metadata": {},
   "source": [
    "### Text clustering from abstracts using kmeans, LDA (topic-based clustering)\n"
   ]
  },
  {
   "cell_type": "code",
   "execution_count": 22,
   "metadata": {},
   "outputs": [],
   "source": [
    "import collections\n",
    "from sklearn.cluster import KMeans\n"
   ]
  },
  {
   "cell_type": "code",
   "execution_count": null,
   "metadata": {},
   "outputs": [],
   "source": []
  },
  {
   "cell_type": "code",
   "execution_count": 23,
   "metadata": {},
   "outputs": [
    {
     "data": {
      "image/png": "[encoded data removed]",
      "text/plain": [
       "<Figure size 432x288 with 1 Axes>"
      ]
     },
     "metadata": {
      "needs_background": "light"
     },
     "output_type": "display_data"
    }
   ],
   "source": [
    "\n",
    "# We will test clustering with multiple cluster counts to find the best number of clusters\n",
    "wcss = []\n",
    "for i in range(1, 20):\n",
    "    kmeans = KMeans(n_clusters=i, init='k-means++', max_iter=200, n_init=10, random_state=57)\n",
    "    kmeans.fit(abz_tfidf)\n",
    "    wcss.append(kmeans.inertia_)\n",
    "plt.plot(range(1, 20), wcss)\n",
    "plt.title('Elbow Method')\n",
    "plt.xlabel('Number of clusters')\n",
    "plt.ylabel('WCSS')\n",
    "plt.show()\n"
   ]
  },
  {
   "cell_type": "code",
   "execution_count": null,
   "metadata": {},
   "outputs": [],
   "source": []
  },
  {
   "cell_type": "code",
   "execution_count": 24,
   "metadata": {},
   "outputs": [
    {
     "name": "stdout",
     "output_type": "stream",
     "text": [
      "(1374,)\n",
      "[8, 8, 8, 8, 8, 6, 10, 8, 10, 10, 10, 10, 8, 10, 8, 10, 5, 5, 15, 5, 15, 11, 10, 8, 4, 10, 10, 9, 11, 10, 8, 4, 8, 4, 15, 8, 14, 14, 17, 15, 14, 14, 4, 10, 14, 8, 5, 10, 10, 14, 3, 17, 10, 5, 17, 14, 17, 10, 17, 4, 15, 17, 5, 17, 5, 17, 17, 6, 10, 2, 3, 6, 6, 8, 0, 2, 8, 10, 9, 16, 13, 10, 0, 0, 0, 13, 10, 10, 13, 2, 13, 13, 17, 4, 4, 9, 10, 6, 9, 9]\n"
     ]
    }
   ],
   "source": [
    "# ~18 clusters appears to be optimal\n",
    "kmeans = KMeans(n_clusters=18, init='k-means++', max_iter=200, n_init=10, random_state=57)\n",
    "clustID = kmeans.fit_predict(abz_tfidf)\n",
    "print(clustID.shape)\n",
    "print(list(clustID)[:100])"
   ]
  },
  {
   "cell_type": "code",
   "execution_count": null,
   "metadata": {},
   "outputs": [],
   "source": []
  },
  {
   "cell_type": "code",
   "execution_count": 26,
   "metadata": {},
   "outputs": [
    {
     "name": "stdout",
     "output_type": "stream",
     "text": [
      "The subdifferentiation of the nucleus accumbens (NAc) has been extensively studied using neuroanatom\n",
      "Nucleus accumbens (NAc) neurons encode features of stimulus learning and action selection associated\n",
      "We examined adaptations in nucleus accumbens (NAc) neurons in mouse and rat peripheral nerve injury \n",
      "Neural circuits that determine the perception and modulation of pain remain poorly understood. The p\n",
      "Nearly 40 years of research on the function of the nucleus accumbens (NAc) has provided a wealth of \n",
      "In addition to their well-established role in signaling rewarding outcomes and reward-predictive cue\n",
      "The nucleus accumbens (NAc) is involved in many reward-related behaviors. The NAc has two major comp\n",
      "Efficient decision-making requires that animals consider both the benefits and the costs of potentia\n",
      "The nucleus accumbens (NAc) is clearly implicated in reward processing and drug addiction, as well a\n",
      "Retrieving and acting on memories of food-predicting environments are fundamental processes for anim\n",
      "Reward-seeking behavior is regulated by a diverse collection of inputs to the nucleus accumbens (NAc\n",
      "The nucleus accumbens (NAc) has a central role in the mechanism of action of drugs of abuse. The maj\n",
      "Nucleus accumbens (NAc) inactivation increases food intake, indicating that NAc neurons exert ongoin\n",
      "The nucleus accumbens (NAc) is thought to be a site of integration of positively  and negatively val\n",
      "Approach to reward is a fundamental adaptive behavior, disruption of which is a core symptom of addi\n"
     ]
    }
   ],
   "source": [
    "# see if topics in clustered abstracts are similar\n",
    "\n",
    "clust_choice = 8\n",
    "\n",
    "for n in range(100):\n",
    "    \n",
    "    if clustID[n] == clust_choice:\n",
    "        \n",
    "        snippet = abz_df['abstract'][n]\n",
    "        \n",
    "        print(snippet[0:100])\n"
   ]
  },
  {
   "cell_type": "code",
   "execution_count": null,
   "metadata": {},
   "outputs": [],
   "source": []
  },
  {
   "cell_type": "code",
   "execution_count": 27,
   "metadata": {},
   "outputs": [],
   "source": [
    "## find the most common words for each cluster"
   ]
  },
  {
   "cell_type": "code",
   "execution_count": 28,
   "metadata": {},
   "outputs": [],
   "source": [
    "def create_wordlist(doc):\n",
    "    wl = []\n",
    "    for word in doc:\n",
    "        wl.append(word.lower())\n",
    "    return wl"
   ]
  },
  {
   "cell_type": "code",
   "execution_count": 29,
   "metadata": {},
   "outputs": [
    {
     "name": "stdout",
     "output_type": "stream",
     "text": [
      "cluster ID:  0\n",
      "vocab size:  2660\n",
      "['dopamine', 'release', 'reward', 'neurons', 'accumbens', 'nucleus', 'phasic', 'changes', 'extracellular', 'nac', 'increase', 'rats', 'behavior', 'cocaine', 'stimuli', 'activity', 'learning', 'effects', 'rewards', 'cues']\n",
      "cluster ID:  1\n",
      "vocab size:  2141\n",
      "['cocaine', 'reinstatement', 'seeking', 'drug', 'accumbens', 'glutamate', 'relapse', 'nucleus', 'rats', 'shell', 'extinction', 'nac', 'core', 'heroin', 'behavior', 'cueinduced', 'dopamine', 'cortex', 'selfadministration', 'results']\n",
      "cluster ID:  2\n",
      "vocab size:  2498\n",
      "['da', 'release', 'nac', 'dopamine', 'neurons', 'accumbens', 'vta', 'effects', 'reward', 'nucleus', 'striatal', 'stimuli', 'receptors', 'effect', 'behavior', 'rats', 'cocaine', 'results', 'transmission', 'd2']\n",
      "cluster ID:  3\n",
      "vocab size:  3267\n",
      "['cocaine', 'nac', 'withdrawal', 'accumbens', 'rats', 'selfadministration', 'nucleus', 'expression', 'drug', 'effects', 'increased', 'craving', 'neurons', 'levels', 'bdnf', 'changes', '1', 'behavioral', 'addiction', 'exposure']\n",
      "cluster ID:  4\n",
      "vocab size:  2417\n",
      "['d1', 'd2', 'neurons', 'msns', 'dopamine', 'receptor', 'receptors', 'nac', 'cocaine', 'mice', 'nucleus', 'accumbens', 'striatum', 'synaptic', 'spiny', 'activation', 'expression', 'medium', 'striatal', 'exposure']\n",
      "cluster ID:  5\n",
      "vocab size:  2026\n",
      "['nucleus', 'ventral', 'neurons', 'accumbens', 'striatum', 'vta', 'area', 'projections', 'lateral', 'cortex', 'medial', 'prefrontal', 'dopamine', 'hippocampal', 'projection', 'striatal', 'cells', 'inputs', 'region', 'nuclei']\n",
      "cluster ID:  6\n",
      "vocab size:  3155\n",
      "['synaptic', 'plasticity', 'nac', 'glutamate', 'receptors', 'synapses', 'receptor', 'neurons', 'accumbens', 'nucleus', 'cocaine', 'changes', 'ampa', 'transmission', 'brain', 'addiction', 'longterm', 'drugs', 'may', 'excitatory']\n",
      "cluster ID:  7\n",
      "vocab size:  1067\n",
      "['sex', 'differences', 'females', 'males', 'properties', 'msns', 'female', 'nucleus', 'nac', 'electrophysiological', 'brain', 'accumbens', 'striatal', 'acbc', 'core', 'msn', 'density', 'addiction', 'spine', 'behaviors']\n",
      "cluster ID:  8\n",
      "vocab size:  2894\n",
      "['nac', 'neurons', 'reward', 'shell', 'accumbens', 'nucleus', 'social', 'dopamine', 'core', 'behavior', 'activity', 'rats', 'behavioral', 'receptor', 'mice', 'role', 'stress', 'responses', 'increased', 'cues']\n",
      "cluster ID:  9\n",
      "vocab size:  2142\n",
      "['drug', 'addiction', 'drugs', 'brain', 'use', 'reward', 'abuse', 'dopamine', 'relapse', 'behavior', 'effects', 'changes', 'mechanisms', 'behavioral', 'studies', 'intake', 'control', 'review', 'neural', 'compulsive']\n",
      "cluster ID:  10\n",
      "vocab size:  6441\n",
      "['neurons', 'accumbens', 'reward', 'nucleus', 'brain', 'dopamine', 'effects', 'results', 'rats', 'also', 'studies', 'behavior', 'expression', 'activity', 'may', 'depression', 'activation', 'using', 'striatum', 'changes']\n",
      "cluster ID:  11\n",
      "vocab size:  309\n",
      "['usa', 'institute', 'university', 'california', 'los', 'angeles', 'department', 'school', 'new', 'york', 'neuroscience', 'medicine', 'sciences', 'massachusetts', 'research', 'brain', 'author', 'information', 'national', 'center']\n",
      "cluster ID:  12\n",
      "vocab size:  2082\n",
      "['ethanol', 'alcohol', 'drinking', 'consumption', 'nac', 'mice', 'intake', 'rats', 'accumbens', 'chronic', 'levels', 'nucleus', 'increased', 'exposure', 'glutamate', 'receptor', 'selfadministration', 'animals', 'effects', 'withdrawal']\n",
      "cluster ID:  13\n",
      "vocab size:  1547\n",
      "['core', 'shell', 'rats', 'accumbens', 'cs', 'nucleus', 'lesions', 'lever', 'effects', 'responding', 'pavlovian', 'instrumental', 'dopamine', 'nacc', 'food', 'response', 'conditioned', 'effect', 'nac', 'reward']\n",
      "cluster ID:  14\n",
      "vocab size:  1226\n",
      "['hedonic', 'shell', 'liking', 'reward', 'motivation', 'reactions', 'vp', 'accumbens', 'dopamine', 'eating', 'signals', 'medial', 'wanting', 'nac', 'nucleus', 'affective', 'opioid', 'behavior', 'food', 'generated']\n",
      "cluster ID:  15\n",
      "vocab size:  2285\n",
      "['food', 'intake', 'feeding', 'accumbens', 'opioid', 'nucleus', 'reward', 'rats', 'receptor', 'effects', 'behavior', 'may', 'mu', 'dopamine', 'sucrose', 'also', 'receptors', 'shell', 'consumption', 'increased']\n",
      "cluster ID:  16\n",
      "vocab size:  2121\n",
      "['neurons', 'interneurons', 'striatal', 'striatum', 'cholinergic', 'spiny', 'cells', 'basal', 'ganglia', 'activity', 'projection', 'gabaergic', 'synaptic', 'dopamine', 'direct', 'cell', 'inhibition', 'firing', 'motor', 'learning']\n",
      "cluster ID:  17\n",
      "vocab size:  1921\n",
      "['shell', 'accumbens', 'nucleus', 'core', 'ventral', 'lateral', 'neurons', 'basal', 'medial', 'areas', 'within', 'striatum', 'rostral', 'area', 'region', 'observed', 'also', 'results', 'regions', 'different']\n"
     ]
    }
   ],
   "source": [
    "common_words = {}  \n",
    "word_cnt = {}\n",
    "    \n",
    "for k in range(max(clustID)+1): \n",
    "    \n",
    "    wordlist = []\n",
    "    words = []\n",
    "\n",
    "    for row in abz_df['abstract'][clustID == k]:\n",
    "\n",
    "        #doc = row.split()\n",
    "        doc = text_process(row)\n",
    "\n",
    "        wl = create_wordlist(doc)\n",
    "\n",
    "        wordlist = wordlist + wl\n",
    "\n",
    "    # count the number of words\n",
    "    word_counts = collections.Counter(wordlist)\n",
    "\n",
    "    # Mapping from index to word : that's the vocabulary\n",
    "    vocabulary_inv = [x[0] for x in word_counts.most_common()]\n",
    "    vocabulary_inv = list(sorted(vocabulary_inv))\n",
    "\n",
    "    # Mapping from word to index\n",
    "    vocab = {x: i for i, x in enumerate(vocabulary_inv)}\n",
    "    words = [x[0] for x in word_counts.most_common()]\n",
    "\n",
    "    # print clustID\n",
    "    print('cluster ID: ',k)\n",
    "    \n",
    "    #size of the vocabulary\n",
    "    vocab_size = len(words)\n",
    "    print(\"vocab size: \", vocab_size)\n",
    "\n",
    "    # twenty most common words\n",
    "    print(words[0:20])\n",
    "    \n",
    "    # save most common words in dictionary\n",
    "    common_words[k] = words[0:20]\n",
    "    \n",
    "    # save word counts per cluster\n",
    "    word_cnt[k] = word_counts\n",
    "    "
   ]
  },
  {
   "cell_type": "code",
   "execution_count": null,
   "metadata": {},
   "outputs": [],
   "source": []
  },
  {
   "cell_type": "code",
   "execution_count": 30,
   "metadata": {},
   "outputs": [],
   "source": [
    "# make heatmap where each row is a cluster, columns are top words, pixels are how many times word comes up"
   ]
  },
  {
   "cell_type": "code",
   "execution_count": 31,
   "metadata": {},
   "outputs": [
    {
     "name": "stdout",
     "output_type": "stream",
     "text": [
      "95\n"
     ]
    }
   ],
   "source": [
    "top_words = []\n",
    "\n",
    "for clus in common_words.keys():\n",
    "    \n",
    "    tmp = common_words[clus]\n",
    "    tmp = tmp[:10]  # for the top 10 most common words in each cluster\n",
    "    \n",
    "    for wrd in tmp:\n",
    "        \n",
    "        if wrd not in top_words:\n",
    "            \n",
    "            top_words.append(str(wrd))\n",
    "\n",
    "print(len(top_words))"
   ]
  },
  {
   "cell_type": "code",
   "execution_count": null,
   "metadata": {},
   "outputs": [],
   "source": []
  },
  {
   "cell_type": "code",
   "execution_count": 32,
   "metadata": {},
   "outputs": [
    {
     "data": {
      "text/html": [
       "<div>\n",
       "<style scoped>\n",
       "    .dataframe tbody tr th:only-of-type {\n",
       "        vertical-align: middle;\n",
       "    }\n",
       "\n",
       "    .dataframe tbody tr th {\n",
       "        vertical-align: top;\n",
       "    }\n",
       "\n",
       "    .dataframe thead th {\n",
       "        text-align: right;\n",
       "    }\n",
       "</style>\n",
       "<table border=\"1\" class=\"dataframe\">\n",
       "  <thead>\n",
       "    <tr style=\"text-align: right;\">\n",
       "      <th></th>\n",
       "      <th>dopamine</th>\n",
       "      <th>release</th>\n",
       "      <th>reward</th>\n",
       "      <th>neurons</th>\n",
       "      <th>accumbens</th>\n",
       "      <th>nucleus</th>\n",
       "      <th>phasic</th>\n",
       "      <th>changes</th>\n",
       "      <th>extracellular</th>\n",
       "      <th>nac</th>\n",
       "      <th>...</th>\n",
       "      <th>interneurons</th>\n",
       "      <th>striatal</th>\n",
       "      <th>cholinergic</th>\n",
       "      <th>spiny</th>\n",
       "      <th>cells</th>\n",
       "      <th>basal</th>\n",
       "      <th>ganglia</th>\n",
       "      <th>activity</th>\n",
       "      <th>medial</th>\n",
       "      <th>areas</th>\n",
       "    </tr>\n",
       "  </thead>\n",
       "  <tbody>\n",
       "    <tr>\n",
       "      <th>0</th>\n",
       "      <td>7.878049</td>\n",
       "      <td>1.914634</td>\n",
       "      <td>1.317073</td>\n",
       "      <td>1.182927</td>\n",
       "      <td>1.073171</td>\n",
       "      <td>1.000000</td>\n",
       "      <td>0.865854</td>\n",
       "      <td>0.682927</td>\n",
       "      <td>0.682927</td>\n",
       "      <td>0.646341</td>\n",
       "      <td>...</td>\n",
       "      <td>0.036585</td>\n",
       "      <td>0.170732</td>\n",
       "      <td>0.109756</td>\n",
       "      <td>0.012195</td>\n",
       "      <td>0.158537</td>\n",
       "      <td>0.121951</td>\n",
       "      <td>0.048780</td>\n",
       "      <td>0.573171</td>\n",
       "      <td>0.024390</td>\n",
       "      <td>0.109756</td>\n",
       "    </tr>\n",
       "    <tr>\n",
       "      <th>1</th>\n",
       "      <td>0.804878</td>\n",
       "      <td>0.146341</td>\n",
       "      <td>0.207317</td>\n",
       "      <td>0.451220</td>\n",
       "      <td>1.829268</td>\n",
       "      <td>1.268293</td>\n",
       "      <td>0.000000</td>\n",
       "      <td>0.207317</td>\n",
       "      <td>0.256098</td>\n",
       "      <td>1.024390</td>\n",
       "      <td>...</td>\n",
       "      <td>0.085366</td>\n",
       "      <td>0.024390</td>\n",
       "      <td>0.000000</td>\n",
       "      <td>0.060976</td>\n",
       "      <td>0.012195</td>\n",
       "      <td>0.036585</td>\n",
       "      <td>0.000000</td>\n",
       "      <td>0.365854</td>\n",
       "      <td>0.219512</td>\n",
       "      <td>0.073171</td>\n",
       "    </tr>\n",
       "    <tr>\n",
       "      <th>2</th>\n",
       "      <td>1.328571</td>\n",
       "      <td>1.671429</td>\n",
       "      <td>0.814286</td>\n",
       "      <td>1.314286</td>\n",
       "      <td>1.000000</td>\n",
       "      <td>0.757143</td>\n",
       "      <td>0.300000</td>\n",
       "      <td>0.300000</td>\n",
       "      <td>0.342857</td>\n",
       "      <td>1.442857</td>\n",
       "      <td>...</td>\n",
       "      <td>0.085714</td>\n",
       "      <td>0.671429</td>\n",
       "      <td>0.114286</td>\n",
       "      <td>0.014286</td>\n",
       "      <td>0.185714</td>\n",
       "      <td>0.100000</td>\n",
       "      <td>0.028571</td>\n",
       "      <td>0.442857</td>\n",
       "      <td>0.057143</td>\n",
       "      <td>0.042857</td>\n",
       "    </tr>\n",
       "    <tr>\n",
       "      <th>3</th>\n",
       "      <td>0.313869</td>\n",
       "      <td>0.065693</td>\n",
       "      <td>0.386861</td>\n",
       "      <td>0.700730</td>\n",
       "      <td>1.350365</td>\n",
       "      <td>1.116788</td>\n",
       "      <td>0.021898</td>\n",
       "      <td>0.649635</td>\n",
       "      <td>0.160584</td>\n",
       "      <td>1.708029</td>\n",
       "      <td>...</td>\n",
       "      <td>0.051095</td>\n",
       "      <td>0.043796</td>\n",
       "      <td>0.021898</td>\n",
       "      <td>0.167883</td>\n",
       "      <td>0.124088</td>\n",
       "      <td>0.153285</td>\n",
       "      <td>0.007299</td>\n",
       "      <td>0.576642</td>\n",
       "      <td>0.065693</td>\n",
       "      <td>0.036496</td>\n",
       "    </tr>\n",
       "    <tr>\n",
       "      <th>4</th>\n",
       "      <td>2.200000</td>\n",
       "      <td>0.114286</td>\n",
       "      <td>0.357143</td>\n",
       "      <td>2.328571</td>\n",
       "      <td>0.885714</td>\n",
       "      <td>0.914286</td>\n",
       "      <td>0.071429</td>\n",
       "      <td>0.428571</td>\n",
       "      <td>0.057143</td>\n",
       "      <td>1.242857</td>\n",
       "      <td>...</td>\n",
       "      <td>0.114286</td>\n",
       "      <td>0.585714</td>\n",
       "      <td>0.042857</td>\n",
       "      <td>0.657143</td>\n",
       "      <td>0.485714</td>\n",
       "      <td>0.228571</td>\n",
       "      <td>0.228571</td>\n",
       "      <td>0.485714</td>\n",
       "      <td>0.085714</td>\n",
       "      <td>0.057143</td>\n",
       "    </tr>\n",
       "  </tbody>\n",
       "</table>\n",
       "<p>5 rows × 95 columns</p>\n",
       "</div>"
      ],
      "text/plain": [
       "   dopamine   release    reward   neurons  accumbens   nucleus    phasic  \\\n",
       "0  7.878049  1.914634  1.317073  1.182927   1.073171  1.000000  0.865854   \n",
       "1  0.804878  0.146341  0.207317  0.451220   1.829268  1.268293  0.000000   \n",
       "2  1.328571  1.671429  0.814286  1.314286   1.000000  0.757143  0.300000   \n",
       "3  0.313869  0.065693  0.386861  0.700730   1.350365  1.116788  0.021898   \n",
       "4  2.200000  0.114286  0.357143  2.328571   0.885714  0.914286  0.071429   \n",
       "\n",
       "    changes  extracellular       nac  ...  interneurons  striatal  \\\n",
       "0  0.682927       0.682927  0.646341  ...      0.036585  0.170732   \n",
       "1  0.207317       0.256098  1.024390  ...      0.085366  0.024390   \n",
       "2  0.300000       0.342857  1.442857  ...      0.085714  0.671429   \n",
       "3  0.649635       0.160584  1.708029  ...      0.051095  0.043796   \n",
       "4  0.428571       0.057143  1.242857  ...      0.114286  0.585714   \n",
       "\n",
       "   cholinergic     spiny     cells     basal   ganglia  activity    medial  \\\n",
       "0     0.109756  0.012195  0.158537  0.121951  0.048780  0.573171  0.024390   \n",
       "1     0.000000  0.060976  0.012195  0.036585  0.000000  0.365854  0.219512   \n",
       "2     0.114286  0.014286  0.185714  0.100000  0.028571  0.442857  0.057143   \n",
       "3     0.021898  0.167883  0.124088  0.153285  0.007299  0.576642  0.065693   \n",
       "4     0.042857  0.657143  0.485714  0.228571  0.228571  0.485714  0.085714   \n",
       "\n",
       "      areas  \n",
       "0  0.109756  \n",
       "1  0.073171  \n",
       "2  0.042857  \n",
       "3  0.036496  \n",
       "4  0.057143  \n",
       "\n",
       "[5 rows x 95 columns]"
      ]
     },
     "execution_count": 32,
     "metadata": {},
     "output_type": "execute_result"
    }
   ],
   "source": [
    "# make df where each top_word is a column, each row is a cluster\n",
    "\n",
    "top_word_cnt = pd.DataFrame(columns = top_words)\n",
    "\n",
    "\n",
    "# find word count for top words for each cluster\n",
    "\n",
    "for k in range(max(clustID)+1):\n",
    "    \n",
    "    tmp = []\n",
    "    \n",
    "    for col in top_word_cnt:\n",
    "        \n",
    "        tmp.append(float(word_cnt[k][col]))\n",
    "        \n",
    "    # divide word count by number of abstracts per cluster\n",
    "    tmp = np.asarray(tmp) / float(len(clustID[clustID==k]))\n",
    "\n",
    "    top_word_cnt.loc[k] = tmp\n",
    "        \n",
    "top_word_cnt.head(5)"
   ]
  },
  {
   "cell_type": "code",
   "execution_count": 33,
   "metadata": {},
   "outputs": [
    {
     "data": {
      "text/plain": [
       "False"
      ]
     },
     "execution_count": 33,
     "metadata": {},
     "output_type": "execute_result"
    }
   ],
   "source": [
    "top_word_cnt.isnull().values.any()"
   ]
  },
  {
   "cell_type": "code",
   "execution_count": null,
   "metadata": {},
   "outputs": [],
   "source": []
  },
  {
   "cell_type": "code",
   "execution_count": 34,
   "metadata": {},
   "outputs": [
    {
     "data": {
      "image/png": "[encoded data removed]",
      "text/plain": [
       "<Figure size 864x1440 with 2 Axes>"
      ]
     },
     "metadata": {
      "needs_background": "light"
     },
     "output_type": "display_data"
    }
   ],
   "source": [
    "#\n",
    "# color axis = mean # of word mentions per abstract in cluster\n",
    "\n",
    "plt.figure(figsize=(12, 20))\n",
    "sns.heatmap(top_word_cnt.T, annot=False)\n",
    "#plt.show()\n",
    "\n",
    "#plt.savefig('abstract_text_clustering.png',dpi=600)"
   ]
  },
  {
   "cell_type": "code",
   "execution_count": null,
   "metadata": {},
   "outputs": [],
   "source": []
  },
  {
   "cell_type": "code",
   "execution_count": 35,
   "metadata": {},
   "outputs": [],
   "source": [
    "# note: clustering 11 appears to be clustered on the basis on data mining error; \n",
    "# top terms are 'usa','university','department'\n",
    "# this means that we scraped the author affilitations instead of the abstract from some articles"
   ]
  },
  {
   "cell_type": "code",
   "execution_count": null,
   "metadata": {},
   "outputs": [],
   "source": []
  },
  {
   "cell_type": "markdown",
   "metadata": {},
   "source": [
    "### It appears that our clustering actually worked extremely well, picking out known subfield groups from neuroscience field such as:\n",
    "- Subfield studying dopamine and release\n",
    "- Subfield studying rats and cocaine seeking and reinstatement (with focus on accumbens shell region)\n",
    "- Subfield DA cells in VTA (ventral tegmental area)\n",
    "- Subfield studying D1 and D2 type dopamine receptors expressed on MSNs\n",
    "- Subfield studying synaptic plasticity at synapses\n",
    "- Subfield studying sex differences between male and females rodents (usually using electrophysiology)\n",
    "- subfield studying drug use and abuse\n",
    "- \n"
   ]
  },
  {
   "cell_type": "code",
   "execution_count": null,
   "metadata": {},
   "outputs": [],
   "source": []
  },
  {
   "cell_type": "code",
   "execution_count": null,
   "metadata": {},
   "outputs": [],
   "source": []
  },
  {
   "cell_type": "code",
   "execution_count": null,
   "metadata": {},
   "outputs": [],
   "source": []
  },
  {
   "cell_type": "code",
   "execution_count": null,
   "metadata": {},
   "outputs": [],
   "source": []
  },
  {
   "cell_type": "code",
   "execution_count": null,
   "metadata": {},
   "outputs": [],
   "source": []
  },
  {
   "cell_type": "code",
   "execution_count": null,
   "metadata": {},
   "outputs": [],
   "source": []
  }
 ],
 "metadata": {
  "kernelspec": {
   "display_name": "Python 3",
   "language": "python",
   "name": "python3"
  },
  "language_info": {
   "codemirror_mode": {
    "name": "ipython",
    "version": 3
   },
   "file_extension": ".py",
   "mimetype": "text/x-python",
   "name": "python",
   "nbconvert_exporter": "python",
   "pygments_lexer": "ipython3",
   "version": "3.7.1"
  }
 },
 "nbformat": 4,
 "nbformat_minor": 2
}
