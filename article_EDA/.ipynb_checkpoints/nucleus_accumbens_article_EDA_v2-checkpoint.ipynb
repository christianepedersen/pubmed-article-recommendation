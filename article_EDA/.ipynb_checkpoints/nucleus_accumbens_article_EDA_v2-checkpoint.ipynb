{
 "cells": [
  {
   "cell_type": "code",
   "execution_count": null,
   "metadata": {},
   "outputs": [],
   "source": []
  },
  {
   "cell_type": "code",
   "execution_count": 1,
   "metadata": {},
   "outputs": [],
   "source": [
    "import numpy as np\n",
    "import pandas as pd\n",
    "import matplotlib.pyplot as plt\n",
    "import seaborn as sns"
   ]
  },
  {
   "cell_type": "code",
   "execution_count": null,
   "metadata": {},
   "outputs": [],
   "source": []
  },
  {
   "cell_type": "code",
   "execution_count": 2,
   "metadata": {},
   "outputs": [],
   "source": [
    "\n",
    "temp_df = pd.read_csv('pubmed_NAc_top1000_jan6.csv')\n"
   ]
  },
  {
   "cell_type": "code",
   "execution_count": 3,
   "metadata": {},
   "outputs": [
    {
     "data": {
      "text/html": [
       "<div>\n",
       "<style scoped>\n",
       "    .dataframe tbody tr th:only-of-type {\n",
       "        vertical-align: middle;\n",
       "    }\n",
       "\n",
       "    .dataframe tbody tr th {\n",
       "        vertical-align: top;\n",
       "    }\n",
       "\n",
       "    .dataframe thead th {\n",
       "        text-align: right;\n",
       "    }\n",
       "</style>\n",
       "<table border=\"1\" class=\"dataframe\">\n",
       "  <thead>\n",
       "    <tr style=\"text-align: right;\">\n",
       "      <th></th>\n",
       "      <th>Unnamed: 0</th>\n",
       "      <th>pmid</th>\n",
       "      <th>author</th>\n",
       "      <th>year</th>\n",
       "      <th>title</th>\n",
       "      <th>journal</th>\n",
       "      <th>citedByNof1000</th>\n",
       "    </tr>\n",
       "  </thead>\n",
       "  <tbody>\n",
       "    <tr>\n",
       "      <th>0</th>\n",
       "      <td>342</td>\n",
       "      <td>23177963.0</td>\n",
       "      <td>Britt</td>\n",
       "      <td>2013</td>\n",
       "      <td>Synaptic and behavioral profile of multiple gl...</td>\n",
       "      <td>Neuron</td>\n",
       "      <td>54.0</td>\n",
       "    </tr>\n",
       "    <tr>\n",
       "      <th>1</th>\n",
       "      <td>79</td>\n",
       "      <td>20947769.0</td>\n",
       "      <td>Lobo</td>\n",
       "      <td>2010</td>\n",
       "      <td>Cell type-specific loss of BDNF signaling mimi...</td>\n",
       "      <td>Science (New York, N.Y.)</td>\n",
       "      <td>47.0</td>\n",
       "    </tr>\n",
       "    <tr>\n",
       "      <th>2</th>\n",
       "      <td>691</td>\n",
       "      <td>19675534.0</td>\n",
       "      <td>Sesack</td>\n",
       "      <td>2010</td>\n",
       "      <td>Cortico-Basal Ganglia reward network: microcir...</td>\n",
       "      <td>Neuropsychopharmacology : official publication...</td>\n",
       "      <td>44.0</td>\n",
       "    </tr>\n",
       "    <tr>\n",
       "      <th>3</th>\n",
       "      <td>366</td>\n",
       "      <td>18500330.0</td>\n",
       "      <td>Conrad</td>\n",
       "      <td>2008</td>\n",
       "      <td>Formation of accumbens GluR2-lacking AMPA rece...</td>\n",
       "      <td>Nature</td>\n",
       "      <td>44.0</td>\n",
       "    </tr>\n",
       "    <tr>\n",
       "      <th>4</th>\n",
       "      <td>6</td>\n",
       "      <td>25251489.0</td>\n",
       "      <td>Floresco</td>\n",
       "      <td>2015</td>\n",
       "      <td>The nucleus accumbens: an interface between co...</td>\n",
       "      <td>Annual review of psychology</td>\n",
       "      <td>42.0</td>\n",
       "    </tr>\n",
       "    <tr>\n",
       "      <th>5</th>\n",
       "      <td>40</td>\n",
       "      <td>6999537.0</td>\n",
       "      <td>Mogenson</td>\n",
       "      <td>1980</td>\n",
       "      <td>From motivation to action: functional interfac...</td>\n",
       "      <td>Progress in neurobiology</td>\n",
       "      <td>36.0</td>\n",
       "    </tr>\n",
       "    <tr>\n",
       "      <th>6</th>\n",
       "      <td>671</td>\n",
       "      <td>19710631.0</td>\n",
       "      <td>Koob</td>\n",
       "      <td>2010</td>\n",
       "      <td>Neurocircuitry of addiction.</td>\n",
       "      <td>Neuropsychopharmacology : official publication...</td>\n",
       "      <td>34.0</td>\n",
       "    </tr>\n",
       "    <tr>\n",
       "      <th>7</th>\n",
       "      <td>373</td>\n",
       "      <td>16776597.0</td>\n",
       "      <td>Hyman</td>\n",
       "      <td>2006</td>\n",
       "      <td>Neural mechanisms of addiction: the role of re...</td>\n",
       "      <td>Annual review of neuroscience</td>\n",
       "      <td>32.0</td>\n",
       "    </tr>\n",
       "    <tr>\n",
       "      <th>8</th>\n",
       "      <td>1226</td>\n",
       "      <td>16055761.0</td>\n",
       "      <td>Kalivas</td>\n",
       "      <td>2005</td>\n",
       "      <td>The neural basis of addiction: a pathology of ...</td>\n",
       "      <td>The American journal of psychiatry</td>\n",
       "      <td>31.0</td>\n",
       "    </tr>\n",
       "    <tr>\n",
       "      <th>9</th>\n",
       "      <td>654</td>\n",
       "      <td>21338877.0</td>\n",
       "      <td>Lüscher</td>\n",
       "      <td>2011</td>\n",
       "      <td>Drug-evoked synaptic plasticity in addiction: ...</td>\n",
       "      <td>Neuron</td>\n",
       "      <td>30.0</td>\n",
       "    </tr>\n",
       "    <tr>\n",
       "      <th>10</th>\n",
       "      <td>668</td>\n",
       "      <td>23428656.0</td>\n",
       "      <td>Smith</td>\n",
       "      <td>2014</td>\n",
       "      <td>Cocaine-induced adaptations in D1 and D2 accum...</td>\n",
       "      <td>Current opinion in neurobiology</td>\n",
       "      <td>30.0</td>\n",
       "    </tr>\n",
       "    <tr>\n",
       "      <th>11</th>\n",
       "      <td>172</td>\n",
       "      <td>26214370.0</td>\n",
       "      <td>Kupchik</td>\n",
       "      <td>2015</td>\n",
       "      <td>Coding the direct/indirect pathways by D1 and ...</td>\n",
       "      <td>Nature neuroscience</td>\n",
       "      <td>30.0</td>\n",
       "    </tr>\n",
       "    <tr>\n",
       "      <th>12</th>\n",
       "      <td>104</td>\n",
       "      <td>7751934.0</td>\n",
       "      <td>O'Donnell</td>\n",
       "      <td>1995</td>\n",
       "      <td>Synaptic interactions among excitatory afferen...</td>\n",
       "      <td>The Journal of neuroscience : the official jou...</td>\n",
       "      <td>29.0</td>\n",
       "    </tr>\n",
       "    <tr>\n",
       "      <th>13</th>\n",
       "      <td>36</td>\n",
       "      <td>10415642.0</td>\n",
       "      <td>Groenewegen</td>\n",
       "      <td>1999</td>\n",
       "      <td>Convergence and segregation of ventral striata...</td>\n",
       "      <td>Annals of the New York Academy of Sciences</td>\n",
       "      <td>29.0</td>\n",
       "    </tr>\n",
       "    <tr>\n",
       "      <th>14</th>\n",
       "      <td>252</td>\n",
       "      <td>20207024.0</td>\n",
       "      <td>Russo</td>\n",
       "      <td>2010</td>\n",
       "      <td>The addicted synapse: mechanisms of synaptic a...</td>\n",
       "      <td>Trends in neurosciences</td>\n",
       "      <td>29.0</td>\n",
       "    </tr>\n",
       "    <tr>\n",
       "      <th>15</th>\n",
       "      <td>26</td>\n",
       "      <td>17574681.0</td>\n",
       "      <td>Ikemoto</td>\n",
       "      <td>2008</td>\n",
       "      <td>Dopamine reward circuitry: two projection syst...</td>\n",
       "      <td>Brain research reviews</td>\n",
       "      <td>29.0</td>\n",
       "    </tr>\n",
       "    <tr>\n",
       "      <th>16</th>\n",
       "      <td>582</td>\n",
       "      <td>21811439.0</td>\n",
       "      <td>Lobo</td>\n",
       "      <td>2011</td>\n",
       "      <td>The striatal balancing act in drug addiction: ...</td>\n",
       "      <td>Frontiers in neuroanatomy</td>\n",
       "      <td>28.0</td>\n",
       "    </tr>\n",
       "    <tr>\n",
       "      <th>17</th>\n",
       "      <td>649</td>\n",
       "      <td>24848058.0</td>\n",
       "      <td>Pascoli</td>\n",
       "      <td>2014</td>\n",
       "      <td>Contrasting forms of cocaine-evoked plasticity...</td>\n",
       "      <td>Nature</td>\n",
       "      <td>28.0</td>\n",
       "    </tr>\n",
       "    <tr>\n",
       "      <th>18</th>\n",
       "      <td>108</td>\n",
       "      <td>2057066.0</td>\n",
       "      <td>Heimer</td>\n",
       "      <td>1991</td>\n",
       "      <td>Specificity in the projection patterns of accu...</td>\n",
       "      <td>Neuroscience</td>\n",
       "      <td>27.0</td>\n",
       "    </tr>\n",
       "    <tr>\n",
       "      <th>19</th>\n",
       "      <td>1029</td>\n",
       "      <td>8401595.0</td>\n",
       "      <td>Robinson</td>\n",
       "      <td>1993</td>\n",
       "      <td>The neural basis of drug craving: an incentive...</td>\n",
       "      <td>Brain research. Brain research reviews</td>\n",
       "      <td>27.0</td>\n",
       "    </tr>\n",
       "  </tbody>\n",
       "</table>\n",
       "</div>"
      ],
      "text/plain": [
       "    Unnamed: 0        pmid       author  year  \\\n",
       "0          342  23177963.0        Britt  2013   \n",
       "1           79  20947769.0         Lobo  2010   \n",
       "2          691  19675534.0       Sesack  2010   \n",
       "3          366  18500330.0       Conrad  2008   \n",
       "4            6  25251489.0     Floresco  2015   \n",
       "5           40   6999537.0     Mogenson  1980   \n",
       "6          671  19710631.0         Koob  2010   \n",
       "7          373  16776597.0        Hyman  2006   \n",
       "8         1226  16055761.0      Kalivas  2005   \n",
       "9          654  21338877.0      Lüscher  2011   \n",
       "10         668  23428656.0        Smith  2014   \n",
       "11         172  26214370.0      Kupchik  2015   \n",
       "12         104   7751934.0    O'Donnell  1995   \n",
       "13          36  10415642.0  Groenewegen  1999   \n",
       "14         252  20207024.0        Russo  2010   \n",
       "15          26  17574681.0      Ikemoto  2008   \n",
       "16         582  21811439.0         Lobo  2011   \n",
       "17         649  24848058.0      Pascoli  2014   \n",
       "18         108   2057066.0       Heimer  1991   \n",
       "19        1029   8401595.0     Robinson  1993   \n",
       "\n",
       "                                                title  \\\n",
       "0   Synaptic and behavioral profile of multiple gl...   \n",
       "1   Cell type-specific loss of BDNF signaling mimi...   \n",
       "2   Cortico-Basal Ganglia reward network: microcir...   \n",
       "3   Formation of accumbens GluR2-lacking AMPA rece...   \n",
       "4   The nucleus accumbens: an interface between co...   \n",
       "5   From motivation to action: functional interfac...   \n",
       "6                        Neurocircuitry of addiction.   \n",
       "7   Neural mechanisms of addiction: the role of re...   \n",
       "8   The neural basis of addiction: a pathology of ...   \n",
       "9   Drug-evoked synaptic plasticity in addiction: ...   \n",
       "10  Cocaine-induced adaptations in D1 and D2 accum...   \n",
       "11  Coding the direct/indirect pathways by D1 and ...   \n",
       "12  Synaptic interactions among excitatory afferen...   \n",
       "13  Convergence and segregation of ventral striata...   \n",
       "14  The addicted synapse: mechanisms of synaptic a...   \n",
       "15  Dopamine reward circuitry: two projection syst...   \n",
       "16  The striatal balancing act in drug addiction: ...   \n",
       "17  Contrasting forms of cocaine-evoked plasticity...   \n",
       "18  Specificity in the projection patterns of accu...   \n",
       "19  The neural basis of drug craving: an incentive...   \n",
       "\n",
       "                                              journal  citedByNof1000  \n",
       "0                                              Neuron            54.0  \n",
       "1                            Science (New York, N.Y.)            47.0  \n",
       "2   Neuropsychopharmacology : official publication...            44.0  \n",
       "3                                              Nature            44.0  \n",
       "4                         Annual review of psychology            42.0  \n",
       "5                            Progress in neurobiology            36.0  \n",
       "6   Neuropsychopharmacology : official publication...            34.0  \n",
       "7                       Annual review of neuroscience            32.0  \n",
       "8                  The American journal of psychiatry            31.0  \n",
       "9                                              Neuron            30.0  \n",
       "10                    Current opinion in neurobiology            30.0  \n",
       "11                                Nature neuroscience            30.0  \n",
       "12  The Journal of neuroscience : the official jou...            29.0  \n",
       "13         Annals of the New York Academy of Sciences            29.0  \n",
       "14                            Trends in neurosciences            29.0  \n",
       "15                             Brain research reviews            29.0  \n",
       "16                          Frontiers in neuroanatomy            28.0  \n",
       "17                                             Nature            28.0  \n",
       "18                                       Neuroscience            27.0  \n",
       "19             Brain research. Brain research reviews            27.0  "
      ]
     },
     "execution_count": 3,
     "metadata": {},
     "output_type": "execute_result"
    }
   ],
   "source": [
    "temp_df.head(20)"
   ]
  },
  {
   "cell_type": "code",
   "execution_count": null,
   "metadata": {},
   "outputs": [],
   "source": []
  },
  {
   "cell_type": "code",
   "execution_count": 4,
   "metadata": {},
   "outputs": [
    {
     "name": "stdout",
     "output_type": "stream",
     "text": [
      "16418.0\n"
     ]
    },
    {
     "data": {
      "text/plain": [
       "Text(0.5, 0, 'Publication year of cited paper')"
      ]
     },
     "execution_count": 4,
     "metadata": {},
     "output_type": "execute_result"
    },
    {
     "data": {
      "image/png": "[encoded data removed]",
      "text/plain": [
       "<Figure size 1296x432 with 1 Axes>"
      ]
     },
     "metadata": {
      "needs_background": "light"
     },
     "output_type": "display_data"
    }
   ],
   "source": [
    "# find which year had the most highly cited papers\n",
    "print(temp_df['citedByNof1000'].sum())\n",
    "plt.figure(figsize=(18, 6))\n",
    "(temp_df.groupby(['year'], as_index=False).sum()\n",
    "            .groupby('year')['citedByNof1000'].sum()).plot.bar()\n",
    "plt.ylabel('Cumulative citations from accumbens field')\n",
    "plt.xlabel('Publication year of cited paper')"
   ]
  },
  {
   "cell_type": "code",
   "execution_count": null,
   "metadata": {},
   "outputs": [],
   "source": []
  },
  {
   "cell_type": "code",
   "execution_count": 5,
   "metadata": {},
   "outputs": [
    {
     "name": "stdout",
     "output_type": "stream",
     "text": [
      "88      Phillips\n",
      "545     Phillips\n",
      "769     Phillips\n",
      "1495    Phillips\n",
      "3513    Phillips\n",
      "3999    Phillips\n",
      "Name: author, dtype: object\n",
      "192\n",
      "950.0\n"
     ]
    }
   ],
   "source": [
    "# find how often certain authors or journals are included in top cited dataframe\n",
    "print(temp_df['author'][temp_df['author']=='Phillips'])\n",
    "\n",
    "print(sum(temp_df['journal']=='Neuron'))     # number of papers in top 2000 that are published in Neuron journal\n",
    "\n",
    "print(sum(temp_df['citedByNof1000'][temp_df['journal']=='Neuron']))"
   ]
  },
  {
   "cell_type": "code",
   "execution_count": null,
   "metadata": {},
   "outputs": [],
   "source": []
  },
  {
   "cell_type": "code",
   "execution_count": 6,
   "metadata": {},
   "outputs": [
    {
     "data": {
      "text/plain": [
       "journal\n",
       "Behavioural brain research                                                                            211.0\n",
       "Biological psychiatry                                                                                 474.0\n",
       "Brain research                                                                                        332.0\n",
       "Nature                                                                                                503.0\n",
       "Nature neuroscience                                                                                   796.0\n",
       "Neuron                                                                                                950.0\n",
       "Neuropharmacology                                                                                     379.0\n",
       "Neuropsychopharmacology : official publication of the American College of Neuropsychopharmacology     718.0\n",
       "Neuroscience                                                                                          615.0\n",
       "PloS one                                                                                              203.0\n",
       "Proceedings of the National Academy of Sciences of the United States of America                       520.0\n",
       "Psychopharmacology                                                                                    574.0\n",
       "Science (New York, N.Y.)                                                                              401.0\n",
       "The European journal of neuroscience                                                                  399.0\n",
       "The Journal of comparative neurology                                                                  209.0\n",
       "The Journal of neuroscience : the official journal of the Society for Neuroscience                   2475.0\n",
       "Trends in neurosciences                                                                               271.0\n",
       "Name: citedByNof1000, dtype: float64"
      ]
     },
     "execution_count": 6,
     "metadata": {},
     "output_type": "execute_result"
    }
   ],
   "source": [
    "# plot the most highly cited journals on this topic\n",
    "\n",
    "abc = (temp_df.groupby(['journal'], as_index=False).sum()\n",
    "            .groupby('journal')['citedByNof1000'].sum())\n",
    "\n",
    "abc = abc[abc > 200]\n",
    "\n",
    "abc"
   ]
  },
  {
   "cell_type": "code",
   "execution_count": 7,
   "metadata": {},
   "outputs": [
    {
     "name": "stdout",
     "output_type": "stream",
     "text": [
      "journal\n",
      "Addiction biology                                                                                     50\n",
      "Alcoholism, clinical and experimental research                                                        52\n",
      "Behavioural brain research                                                                            67\n",
      "Biological psychiatry                                                                                123\n",
      "Brain research                                                                                       105\n",
      "European journal of pharmacology                                                                      41\n",
      "Journal of neurochemistry                                                                             62\n",
      "Journal of neurophysiology                                                                            48\n",
      "Nature                                                                                                90\n",
      "Nature neuroscience                                                                                  145\n",
      "Nature reviews. Neuroscience                                                                          44\n",
      "NeuroImage                                                                                            49\n",
      "Neuron                                                                                               192\n",
      "Neuropharmacology                                                                                    104\n",
      "Neuropsychopharmacology : official publication of the American College of Neuropsychopharmacology    180\n",
      "Neuroscience                                                                                         176\n",
      "Neuroscience and biobehavioral reviews                                                                55\n",
      "Pharmacology, biochemistry, and behavior                                                              69\n",
      "PloS one                                                                                              63\n",
      "Proceedings of the National Academy of Sciences of the United States of America                      125\n",
      "Psychopharmacology                                                                                   190\n",
      "Science (New York, N.Y.)                                                                              82\n",
      "The European journal of neuroscience                                                                 117\n",
      "The Journal of comparative neurology                                                                  54\n",
      "The Journal of neuroscience : the official journal of the Society for Neuroscience                   565\n",
      "Trends in neurosciences                                                                               55\n",
      "Name: citedByNof1000, dtype: int64\n"
     ]
    }
   ],
   "source": [
    "# plot the journals that have the highest citations on the topic per article\n",
    "\n",
    "journal_cnts = (temp_df.groupby(['journal'], as_index=False).count()\n",
    "            .groupby('journal')['citedByNof1000'].sum())\n",
    "\n",
    "journal_cnts = journal_cnts[journal_cnts > 40]\n",
    "\n",
    "print(journal_cnts)"
   ]
  },
  {
   "cell_type": "code",
   "execution_count": 8,
   "metadata": {},
   "outputs": [
    {
     "name": "stdout",
     "output_type": "stream",
     "text": [
      "journal\n",
      "Nature                                                                                5.588889\n",
      "Nature neuroscience                                                                   5.489655\n",
      "Nature reviews. Neuroscience                                                          4.500000\n",
      "Neuron                                                                                4.947917\n",
      "Proceedings of the National Academy of Sciences of the United States of America       4.160000\n",
      "Science (New York, N.Y.)                                                              4.890244\n",
      "The Journal of neuroscience : the official journal of the Society for Neuroscience    4.380531\n",
      "Trends in neurosciences                                                               4.927273\n",
      "Name: citedByNof1000, dtype: float64\n"
     ]
    }
   ],
   "source": [
    "journal_cites = (temp_df.groupby(['journal'], as_index=False).sum()\n",
    "            .groupby('journal')['citedByNof1000'].sum())\n",
    "\n",
    "cites_per_paper = journal_cites/journal_cnts\n",
    "\n",
    "cites_per_paper = cites_per_paper[cites_per_paper>4]\n",
    "\n",
    "print(cites_per_paper)"
   ]
  },
  {
   "cell_type": "code",
   "execution_count": 9,
   "metadata": {},
   "outputs": [],
   "source": [
    "# find the most impactful (citations/paper) journal per year\n",
    "\n"
   ]
  },
  {
   "cell_type": "code",
   "execution_count": null,
   "metadata": {},
   "outputs": [],
   "source": []
  },
  {
   "cell_type": "code",
   "execution_count": null,
   "metadata": {},
   "outputs": [],
   "source": []
  },
  {
   "cell_type": "code",
   "execution_count": 10,
   "metadata": {},
   "outputs": [
    {
     "data": {
      "text/plain": [
       "Text(0.5, 0, 'Year of publication')"
      ]
     },
     "execution_count": 10,
     "metadata": {},
     "output_type": "execute_result"
    },
    {
     "data": {
      "image/png": "[encoded data removed]",
      "text/plain": [
       "<Figure size 864x216 with 1 Axes>"
      ]
     },
     "metadata": {
      "needs_background": "light"
     },
     "output_type": "display_data"
    }
   ],
   "source": [
    "# how many Nature papers in the dopamine fields are published per year?\n",
    "\n",
    "jour = 'Nature'\n",
    "nature_df = temp_df.copy()\n",
    "nature_df = nature_df[nature_df['journal'] == jour]\n",
    "\n",
    "plt.figure(figsize=(12, 3))\n",
    "(nature_df.groupby(['year'], as_index=False).count()\n",
    "            .groupby('year')['citedByNof1000'].sum()).plot.bar()\n",
    "\n",
    "plt.ylabel('Number of {journa} papers in accumbens field'.format(journa=jour))\n",
    "plt.xlabel('Year of publication')"
   ]
  },
  {
   "cell_type": "code",
   "execution_count": null,
   "metadata": {},
   "outputs": [],
   "source": []
  },
  {
   "cell_type": "code",
   "execution_count": null,
   "metadata": {},
   "outputs": [],
   "source": []
  },
  {
   "cell_type": "code",
   "execution_count": null,
   "metadata": {},
   "outputs": [],
   "source": []
  },
  {
   "cell_type": "code",
   "execution_count": null,
   "metadata": {},
   "outputs": [],
   "source": []
  },
  {
   "cell_type": "code",
   "execution_count": null,
   "metadata": {},
   "outputs": [],
   "source": []
  },
  {
   "cell_type": "code",
   "execution_count": null,
   "metadata": {},
   "outputs": [],
   "source": []
  },
  {
   "cell_type": "code",
   "execution_count": null,
   "metadata": {},
   "outputs": [],
   "source": []
  },
  {
   "cell_type": "code",
   "execution_count": null,
   "metadata": {},
   "outputs": [],
   "source": []
  },
  {
   "cell_type": "code",
   "execution_count": null,
   "metadata": {},
   "outputs": [],
   "source": []
  },
  {
   "cell_type": "code",
   "execution_count": null,
   "metadata": {},
   "outputs": [],
   "source": []
  },
  {
   "cell_type": "code",
   "execution_count": null,
   "metadata": {},
   "outputs": [],
   "source": []
  },
  {
   "cell_type": "code",
   "execution_count": null,
   "metadata": {},
   "outputs": [],
   "source": []
  },
  {
   "cell_type": "code",
   "execution_count": null,
   "metadata": {},
   "outputs": [],
   "source": []
  },
  {
   "cell_type": "code",
   "execution_count": null,
   "metadata": {},
   "outputs": [],
   "source": []
  },
  {
   "cell_type": "code",
   "execution_count": null,
   "metadata": {},
   "outputs": [],
   "source": []
  }
 ],
 "metadata": {
  "kernelspec": {
   "display_name": "Python 3",
   "language": "python",
   "name": "python3"
  },
  "language_info": {
   "codemirror_mode": {
    "name": "ipython",
    "version": 3
   },
   "file_extension": ".py",
   "mimetype": "text/x-python",
   "name": "python",
   "nbconvert_exporter": "python",
   "pygments_lexer": "ipython3",
   "version": "3.7.1"
  }
 },
 "nbformat": 4,
 "nbformat_minor": 4
}
